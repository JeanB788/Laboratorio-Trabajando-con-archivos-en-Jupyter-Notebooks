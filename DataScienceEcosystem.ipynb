{
 "cells": [
  {
   "cell_type": "markdown",
   "id": "bb047863-d103-4bc7-9234-f758f03cd64f",
   "metadata": {},
   "source": [
    "# Data Science Tools and Ecosystem"
   ]
  },
  {
   "cell_type": "markdown",
   "id": "e63167cd-db22-4458-b627-71b9873f098b",
   "metadata": {},
   "source": [
    "In this notebook, Data Science Tools and Ecosystem are summarized."
   ]
  },
  {
   "cell_type": "markdown",
   "id": "7656cd51-09c0-41e1-82b6-bd9d9f51da4f",
   "metadata": {},
   "source": [
    "**Objectives:**\n",
    "+ List popular languages for Data Science\n",
    "+ List libraries commonly used for Data Science\n",
    "+ Table tools for Data Science\n",
    "+ Exemplify arithmetic expressions in Python"
   ]
  },
  {
   "cell_type": "markdown",
   "id": "f9f9024e-d008-4784-853a-dfb36b4e9c54",
   "metadata": {},
   "source": [
    "## Author\n",
    "Jean Alessandro Bautista Aguilar"
   ]
  },
  {
   "cell_type": "markdown",
   "id": "1694aafd-03ff-4bb2-8d11-1aaf5628bb15",
   "metadata": {},
   "source": [
    "Some of the popular languages that Data Scientists use are:\n",
    "1. Python\n",
    "2. R\n",
    "3. SQL\n",
    "4. GO"
   ]
  },
  {
   "cell_type": "markdown",
   "id": "8fd0d6ab-a9ef-4b71-900b-3c46a64d0227",
   "metadata": {},
   "source": [
    "Some of the commonly used libraries used by Data Scientists include:\n",
    "1. Pandas\n",
    "2. NumPy\n",
    "3. Matplotlib\n",
    "4.Keras"
   ]
  },
  {
   "cell_type": "markdown",
   "id": "035874c0-69d4-4895-ba1c-c6469b784cad",
   "metadata": {},
   "source": [
    "|Data Science Tools|\n",
    "|--------------------------------|\n",
    "|MySQL|\n",
    "|Microsoft Visual Studio|\n",
    "|Jupyter|"
   ]
  },
  {
   "cell_type": "markdown",
   "id": "48664f1d-3180-409b-93df-ae8a15683a58",
   "metadata": {},
   "source": [
    "### Below are a few examples of evaluating arithmetic expressions in Python"
   ]
  },
  {
   "cell_type": "code",
   "execution_count": 9,
   "id": "d420a1fa-2bb0-4ddc-8063-108fb06c7dae",
   "metadata": {},
   "outputs": [
    {
     "data": {
      "text/plain": [
       "17"
      ]
     },
     "execution_count": 9,
     "metadata": {},
     "output_type": "execute_result"
    }
   ],
   "source": [
    "#This a simple arithmetic expression to mutiply then add integers\n",
    "(3*4)+5"
   ]
  },
  {
   "cell_type": "code",
   "execution_count": 10,
   "id": "3a7ca827-b887-42bc-89a9-a5d5dcee5b07",
   "metadata": {},
   "outputs": [
    {
     "data": {
      "text/plain": [
       "3.3333333333333335"
      ]
     },
     "execution_count": 10,
     "metadata": {},
     "output_type": "execute_result"
    }
   ],
   "source": [
    "# This will convert 200 minutes to hours by diving by 60\n",
    "200/60"
   ]
  }
 ],
 "metadata": {
  "kernelspec": {
   "display_name": "Python 3 (ipykernel)",
   "language": "python",
   "name": "python3"
  },
  "language_info": {
   "codemirror_mode": {
    "name": "ipython",
    "version": 3
   },
   "file_extension": ".py",
   "mimetype": "text/x-python",
   "name": "python",
   "nbconvert_exporter": "python",
   "pygments_lexer": "ipython3",
   "version": "3.13.5"
  }
 },
 "nbformat": 4,
 "nbformat_minor": 5
}
