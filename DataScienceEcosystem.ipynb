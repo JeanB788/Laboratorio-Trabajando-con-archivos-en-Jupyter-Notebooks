{
 "cells": [
  {
   "cell_type": "markdown",
   "id": "bb047863-d103-4bc7-9234-f758f03cd64f",
   "metadata": {},
   "source": [
    "# Data Science Tools and Ecosystem"
   ]
  },
  {
   "cell_type": "markdown",
   "id": "e63167cd-db22-4458-b627-71b9873f098b",
   "metadata": {},
   "source": [
    "En este cuaderno, se resumen las herramientas y ecosistemas de ciencia de datos."
   ]
  },
  {
   "cell_type": "markdown",
   "id": "7656cd51-09c0-41e1-82b6-bd9d9f51da4f",
   "metadata": {},
   "source": [
    "**Objetivos:**\n",
    "1. Listar lenguajes populares para Ciencia de Datos\n",
    "2. Listar bibliotecas comúnmente utilizadas para Ciencia de Datos\n",
    "3. Listar herramientas para Ciencia de Datos\n",
    "4. Ejemplificar expresiones aritmeticas en Python"
   ]
  },
  {
   "cell_type": "markdown",
   "id": "f9f9024e-d008-4784-853a-dfb36b4e9c54",
   "metadata": {},
   "source": [
    "## Autor\n",
    "Jean Alessandro Bautista Aguilar"
   ]
  },
  {
   "cell_type": "markdown",
   "id": "1694aafd-03ff-4bb2-8d11-1aaf5628bb15",
   "metadata": {},
   "source": [
    "Algunos de los lenguajes populares que utilizan los científicos de datos son:\n",
    "1. Python\n",
    "2. R\n",
    "3. SQL\n",
    "4. GO"
   ]
  },
  {
   "cell_type": "markdown",
   "id": "8fd0d6ab-a9ef-4b71-900b-3c46a64d0227",
   "metadata": {},
   "source": [
    "Algunas de las bibliotecas comúnmente utilizadas por los científicos de datos incluyen:\n",
    "1. Pandas\n",
    "2. NumPy\n",
    "3. Matplotlib\n",
    "4.Keras"
   ]
  },
  {
   "cell_type": "markdown",
   "id": "035874c0-69d4-4895-ba1c-c6469b784cad",
   "metadata": {},
   "source": [
    "|Herramientas de Ciencia de Datos|\n",
    "|--------------------------------|\n",
    "|MySQL|\n",
    "|Microsoft Visual Studio|\n",
    "|Jupyter|"
   ]
  },
  {
   "cell_type": "markdown",
   "id": "48664f1d-3180-409b-93df-ae8a15683a58",
   "metadata": {},
   "source": [
    "### A continuación, se presentan algunos ejemplos de evaluación de expresiones aritméticas en Python"
   ]
  },
  {
   "cell_type": "markdown",
   "id": "4e24b051-891a-487b-b52e-250d72635a6e",
   "metadata": {},
   "source": [
    "Esta es una expresión aritmética simple para multiplicar y luego sumar enteros"
   ]
  },
  {
   "cell_type": "code",
   "execution_count": 2,
   "id": "d420a1fa-2bb0-4ddc-8063-108fb06c7dae",
   "metadata": {},
   "outputs": [
    {
     "data": {
      "text/plain": [
       "17"
      ]
     },
     "execution_count": 2,
     "metadata": {},
     "output_type": "execute_result"
    }
   ],
   "source": [
    "(3*4)+5"
   ]
  },
  {
   "cell_type": "markdown",
   "id": "3c3fdae7-1d7d-42f1-a9ff-9bcdc8128f42",
   "metadata": {},
   "source": [
    "Esto convertirá 200 minutos a horas dividiendo por 60"
   ]
  },
  {
   "cell_type": "code",
   "execution_count": 6,
   "id": "3a7ca827-b887-42bc-89a9-a5d5dcee5b07",
   "metadata": {},
   "outputs": [
    {
     "data": {
      "text/plain": [
       "3.3333333333333335"
      ]
     },
     "execution_count": 6,
     "metadata": {},
     "output_type": "execute_result"
    }
   ],
   "source": [
    "200/60"
   ]
  },
  {
   "cell_type": "code",
   "execution_count": null,
   "id": "225e218c-10a9-462d-8ffe-31a8536ba293",
   "metadata": {},
   "outputs": [],
   "source": []
  }
 ],
 "metadata": {
  "kernelspec": {
   "display_name": "Python 3 (ipykernel)",
   "language": "python",
   "name": "python3"
  },
  "language_info": {
   "codemirror_mode": {
    "name": "ipython",
    "version": 3
   },
   "file_extension": ".py",
   "mimetype": "text/x-python",
   "name": "python",
   "nbconvert_exporter": "python",
   "pygments_lexer": "ipython3",
   "version": "3.13.5"
  }
 },
 "nbformat": 4,
 "nbformat_minor": 5
}
